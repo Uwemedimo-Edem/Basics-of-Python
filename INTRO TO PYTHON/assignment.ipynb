{
 "cells": [
  {
   "cell_type": "code",
   "execution_count": 9,
   "id": "08e13829",
   "metadata": {},
   "outputs": [
    {
     "name": "stdout",
     "output_type": "stream",
     "text": [
      "Uwemedimo(lifepraize)\n"
     ]
    }
   ],
   "source": [
    "#1.a name variable\n",
    "name=\"Uwemedimo(lifepraize)\"\n",
    "print(name)"
   ]
  },
  {
   "cell_type": "code",
   "execution_count": 11,
   "id": "75f94c6c",
   "metadata": {},
   "outputs": [
    {
     "name": "stdout",
     "output_type": "stream",
     "text": [
      "the area of a rectangle: 39.6\n"
     ]
    }
   ],
   "source": [
    "#2.area of a rectangle\n",
    "width=5.5\n",
    "height=7.2\n",
    "area=width*height\n",
    "print(\"the area of a rectangle:\",area)"
   ]
  },
  {
   "cell_type": "code",
   "execution_count": 4,
   "id": "bd0f15ee",
   "metadata": {
    "scrolled": true
   },
   "outputs": [
    {
     "name": "stdout",
     "output_type": "stream",
     "text": [
      "lifepraize celebrated her 23rd birthday on 1st oct 2023\n"
     ]
    }
   ],
   "source": [
    "#3.sentence assignment\n",
    "sentence=\"lifepraize celebrated her 23rd birthday on 1st oct 2023\"\n",
    "print(sentence)"
   ]
  },
  {
   "cell_type": "code",
   "execution_count": 21,
   "id": "00063992",
   "metadata": {},
   "outputs": [
    {
     "name": "stdout",
     "output_type": "stream",
     "text": [
      "['watermelon', 'paw_paw', 'pear']\n"
     ]
    }
   ],
   "source": [
    "#6.list of my favorite fruit\n",
    "favorite_list=[\"watermelon\",\"paw_paw\",\"pear\"]\n",
    "print(favorite_list)"
   ]
  },
  {
   "cell_type": "code",
   "execution_count": 4,
   "id": "ab22937a",
   "metadata": {},
   "outputs": [
    {
     "name": "stdout",
     "output_type": "stream",
     "text": [
      "['watermelon', 'paw_paw', 'pear', 'orange']\n"
     ]
    }
   ],
   "source": [
    "#updating list\n",
    "favorite_list=favorite_list=[\"watermelon\",\"paw_paw\",\"pear\"]\n",
    "favorite_list+=[\"orange\"]\n",
    "print(favorite_list)"
   ]
  },
  {
   "cell_type": "code",
   "execution_count": 6,
   "id": "a1d9ef6e",
   "metadata": {},
   "outputs": [
    {
     "name": "stdout",
     "output_type": "stream",
     "text": [
      "['watermelon', 'pear']\n"
     ]
    }
   ],
   "source": [
    "#updating list\n",
    "favorite_list=favorite_list=[\"watermelon\",\"paw_paw\",\"pear\"]\n",
    "favorite_list.remove(\"paw_paw\")\n",
    "print(favorite_list)"
   ]
  },
  {
   "cell_type": "code",
   "execution_count": 1,
   "id": "f5081dc9",
   "metadata": {},
   "outputs": [
    {
     "name": "stdout",
     "output_type": "stream",
     "text": [
      "sum of the numbers is: 20\n"
     ]
    }
   ],
   "source": [
    "#sum of total list of numbers\n",
    "number_list=[2,4,6,8]\n",
    "total=sum(number_list)\n",
    "print(\"sum of the numbers is:\", total)"
   ]
  },
  {
   "cell_type": "code",
   "execution_count": 5,
   "id": "a3ef5a57",
   "metadata": {},
   "outputs": [
    {
     "name": "stdout",
     "output_type": "stream",
     "text": [
      "1\n",
      "2\n",
      "3\n",
      "4\n",
      "5\n",
      "6\n",
      "7\n",
      "8\n",
      "9\n",
      "10\n"
     ]
    }
   ],
   "source": [
    "#list of numbers using loop\n",
    "number_loop=[1,2,3,4,5,6,7,8,9,10]\n",
    "number_loop=i\n",
    "for i in range(1,11):\n",
    "    print(i)"
   ]
  },
  {
   "cell_type": "code",
   "execution_count": 6,
   "id": "c2a8a2b6",
   "metadata": {},
   "outputs": [
    {
     "name": "stdout",
     "output_type": "stream",
     "text": [
      "('green', 'pink', 'white')\n"
     ]
    }
   ],
   "source": [
    "#defining a tuple\n",
    "my_tuple=('green','pink','white')\n",
    "print(my_tuple)"
   ]
  },
  {
   "cell_type": "code",
   "execution_count": null,
   "id": "fcd5d135",
   "metadata": {},
   "outputs": [],
   "source": [
    "#changing values in my tuple\n",
    "my_tuple=('green','pink','white')\n",
    "my_new_tuple('yellow','brown','orange')\n",
    "my_new_tuple.discard('pink')\n",
    "print(my_tuple)"
   ]
  },
  {
   "cell_type": "code",
   "execution_count": 8,
   "id": "bf4fdfbb",
   "metadata": {},
   "outputs": [
    {
     "name": "stdout",
     "output_type": "stream",
     "text": [
      "my favorite books are: ('The Amazon of witchcraft', '1984', 'Orphans in tears')\n"
     ]
    }
   ],
   "source": [
    "#tuple of my favorite book\n",
    "favorite_book=(\"The Amazon of witchcraft\", \"1984\",\"Orphans in tears\")\n",
    "print(\"my favorite books are:\", favorite_book)"
   ]
  },
  {
   "cell_type": "code",
   "execution_count": 10,
   "id": "74392498",
   "metadata": {},
   "outputs": [
    {
     "name": "stdout",
     "output_type": "stream",
     "text": [
      "['green', 'pink', 'white']\n",
      "<class 'list'>\n"
     ]
    }
   ],
   "source": [
    "#switching a tuple to list\n",
    "favorite_list=list(my_tuple)\n",
    "print(favorite_list)\n",
    "print(type(favorite_list))"
   ]
  },
  {
   "cell_type": "code",
   "execution_count": null,
   "id": "89483ef8",
   "metadata": {},
   "outputs": [],
   "source": [
    "#calculate area of a circle\n",
    "pi=3.14159\n",
    "radius=int(input('the radius is'))\n",
    "height=7.2\n",
    "result=pi*radius*height\n",
    "print('the area of circle is:',result)"
   ]
  },
  {
   "cell_type": "code",
   "execution_count": null,
   "id": "85318c8d",
   "metadata": {},
   "outputs": [],
   "source": [
    "#calculating unknown variable x and y\n",
    "x=-5\n",
    "y=21\n",
    "value=x+y\n",
    "print(value)"
   ]
  },
  {
   "cell_type": "code",
   "execution_count": null,
   "id": "dbd984f0",
   "metadata": {},
   "outputs": [],
   "source": []
  },
  {
   "cell_type": "code",
   "execution_count": null,
   "id": "2996dfa7",
   "metadata": {},
   "outputs": [],
   "source": []
  }
 ],
 "metadata": {
  "kernelspec": {
   "display_name": "Python 3 (ipykernel)",
   "language": "python",
   "name": "python3"
  },
  "language_info": {
   "codemirror_mode": {
    "name": "ipython",
    "version": 3
   },
   "file_extension": ".py",
   "mimetype": "text/x-python",
   "name": "python",
   "nbconvert_exporter": "python",
   "pygments_lexer": "ipython3",
   "version": "3.11.4"
  }
 },
 "nbformat": 4,
 "nbformat_minor": 5
}
